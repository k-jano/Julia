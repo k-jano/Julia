{
 "cells": [
  {
   "cell_type": "code",
   "execution_count": 1,
   "metadata": {},
   "outputs": [
    {
     "data": {
      "text/plain": [
       "GCD (generic function with 1 method)"
      ]
     },
     "execution_count": 1,
     "metadata": {},
     "output_type": "execute_result"
    }
   ],
   "source": [
    "function GCD(X, Y)\n",
    "    if (X==0)\n",
    "        a=1\n",
    "    else\n",
    "        while(X!=Y)\n",
    "            if(X>Y)\n",
    "                X-=Y\n",
    "            else\n",
    "                Y-=X\n",
    "            end\n",
    "        end\n",
    "        a=X\n",
    "    end\n",
    "    a\n",
    "end    "
   ]
  },
  {
   "cell_type": "code",
   "execution_count": 2,
   "metadata": {},
   "outputs": [
    {
     "data": {
      "text/plain": [
       "3"
      ]
     },
     "execution_count": 2,
     "metadata": {},
     "output_type": "execute_result"
    }
   ],
   "source": [
    "GCD(9,6)"
   ]
  },
  {
   "cell_type": "code",
   "execution_count": 3,
   "metadata": {},
   "outputs": [
    {
     "data": {
      "text/plain": [
       "* (generic function with 185 methods)"
      ]
     },
     "execution_count": 3,
     "metadata": {},
     "output_type": "execute_result"
    }
   ],
   "source": [
    "import Base.*\n",
    "\n",
    "struct Gn{n}\n",
    "    x\n",
    "    Gn{n}(x) where n = GCD(x%n, n)==1 ? new(x%n) : throw(DomainError())\n",
    "end\n",
    "\n",
    "*(a::Gn{n}, b::Gn{n}) where n = Gn{n}(a.x*b.x)\n",
    "*(a::Gn{n}, b::Int64) where n = Gn{n}(a.x*b)\n",
    "*(a::Int64, b::Gn{n}) where n = Gn{n}(a*b.x)\n"
   ]
  },
  {
   "cell_type": "code",
   "execution_count": 4,
   "metadata": {},
   "outputs": [
    {
     "data": {
      "text/plain": [
       "Gn{5}(2)"
      ]
     },
     "execution_count": 4,
     "metadata": {},
     "output_type": "execute_result"
    }
   ],
   "source": [
    "a= Gn{5}(3)\n",
    "b= 4\n",
    "a*b"
   ]
  },
  {
   "cell_type": "code",
   "execution_count": 5,
   "metadata": {},
   "outputs": [
    {
     "data": {
      "text/plain": [
       "convert (generic function with 723 methods)"
      ]
     },
     "execution_count": 5,
     "metadata": {},
     "output_type": "execute_result"
    }
   ],
   "source": [
    "import Base.convert\n",
    "\n",
    "convert(a::Int64, num::Int64)= Gn{num}(a)\n",
    "convert(a::Gn{n}) where n = a.x"
   ]
  },
  {
   "cell_type": "code",
   "execution_count": 6,
   "metadata": {
    "scrolled": true
   },
   "outputs": [
    {
     "data": {
      "text/plain": [
       "Gn{3}(2)"
      ]
     },
     "execution_count": 6,
     "metadata": {},
     "output_type": "execute_result"
    }
   ],
   "source": [
    "convert(5,3)"
   ]
  },
  {
   "cell_type": "code",
   "execution_count": 7,
   "metadata": {},
   "outputs": [
    {
     "data": {
      "text/plain": [
       "0"
      ]
     },
     "execution_count": 7,
     "metadata": {},
     "output_type": "execute_result"
    }
   ],
   "source": [
    "tmp = Gn{7}(14)\n",
    "convert(tmp)"
   ]
  },
  {
   "cell_type": "code",
   "execution_count": 8,
   "metadata": {},
   "outputs": [
    {
     "data": {
      "text/plain": [
       "promote_rule (generic function with 124 methods)"
      ]
     },
     "execution_count": 8,
     "metadata": {},
     "output_type": "execute_result"
    }
   ],
   "source": [
    "import Base.promote_rule\n",
    "\n",
    "promote_rule(::Type{Gn{n}}, ::Type{Int64}) where n =Float64"
   ]
  },
  {
   "cell_type": "code",
   "execution_count": 9,
   "metadata": {},
   "outputs": [
    {
     "data": {
      "text/plain": [
       "Float64"
      ]
     },
     "execution_count": 9,
     "metadata": {},
     "output_type": "execute_result"
    }
   ],
   "source": [
    "promote_type(Gn{5}, Int64)"
   ]
  },
  {
   "cell_type": "code",
   "execution_count": 10,
   "metadata": {},
   "outputs": [
    {
     "data": {
      "text/plain": [
       "calculatePeriod (generic function with 1 method)"
      ]
     },
     "execution_count": 10,
     "metadata": {},
     "output_type": "execute_result"
    }
   ],
   "source": [
    "function powGn(G::Gn{n}, X::Int64) where n\n",
    "    tmp = Gn{n}(1)\n",
    "    for j=1:X\n",
    "        tmp*= G\n",
    "    end    \n",
    "    tmp\n",
    "end\n",
    "\n",
    "function calculatePeriod(G::Gn{n}) where n\n",
    "    tmp = G\n",
    "    for r = 1:n\n",
    "        tmp=powGn(G,r)\n",
    "        if tmp.x == 1\n",
    "            return r\n",
    "        end    \n",
    "    end\n",
    "end "
   ]
  },
  {
   "cell_type": "code",
   "execution_count": 11,
   "metadata": {},
   "outputs": [
    {
     "data": {
      "text/plain": [
       "Gn{5}(1)"
      ]
     },
     "execution_count": 11,
     "metadata": {},
     "output_type": "execute_result"
    }
   ],
   "source": [
    "G=Gn{5}(4)\n",
    "powGn(G, 2)"
   ]
  },
  {
   "cell_type": "code",
   "execution_count": 12,
   "metadata": {},
   "outputs": [
    {
     "data": {
      "text/plain": [
       "2"
      ]
     },
     "execution_count": 12,
     "metadata": {},
     "output_type": "execute_result"
    }
   ],
   "source": [
    "G=Gn{5}(4)\n",
    "a=calculatePeriod(G)"
   ]
  },
  {
   "cell_type": "code",
   "execution_count": 13,
   "metadata": {},
   "outputs": [
    {
     "data": {
      "text/plain": [
       "oppositeElement (generic function with 1 method)"
      ]
     },
     "execution_count": 13,
     "metadata": {},
     "output_type": "execute_result"
    }
   ],
   "source": [
    "function oppositeElement(G::Gn{n}) where n \n",
    "    for i = 1:n\n",
    "        try\n",
    "            tmp=Gn{n}(i)\n",
    "            tmp2=G*tmp\n",
    "            if tmp2.x==1\n",
    "                return tmp\n",
    "            end\n",
    "        end    \n",
    "    end\n",
    "end"
   ]
  },
  {
   "cell_type": "code",
   "execution_count": 14,
   "metadata": {},
   "outputs": [
    {
     "data": {
      "text/plain": [
       "Gn{6}(5)"
      ]
     },
     "execution_count": 14,
     "metadata": {},
     "output_type": "execute_result"
    }
   ],
   "source": [
    "oppositeElement(Gn{6}(5))"
   ]
  },
  {
   "cell_type": "code",
   "execution_count": 15,
   "metadata": {},
   "outputs": [
    {
     "data": {
      "text/plain": [
       "numberOfElements (generic function with 1 method)"
      ]
     },
     "execution_count": 15,
     "metadata": {},
     "output_type": "execute_result"
    }
   ],
   "source": [
    "function numberOfElements(::Type{Gn{n}}) where n\n",
    "    counter=n\n",
    "    for i = 1:n\n",
    "        try \n",
    "            tmp=Gn{n}(i)\n",
    "        catch(e)\n",
    "            if isa(e, DomainError)\n",
    "                counter-=1\n",
    "            end    \n",
    "        end    \n",
    "    end        \n",
    "    return counter\n",
    "end    "
   ]
  },
  {
   "cell_type": "code",
   "execution_count": 16,
   "metadata": {},
   "outputs": [
    {
     "data": {
      "text/plain": [
       "5"
      ]
     },
     "execution_count": 16,
     "metadata": {},
     "output_type": "execute_result"
    }
   ],
   "source": [
    "a=typeof(Gn{10}(1))\n",
    "numberOfElements(a)"
   ]
  },
  {
   "cell_type": "code",
   "execution_count": 17,
   "metadata": {},
   "outputs": [
    {
     "data": {
      "text/plain": [
       "10"
      ]
     },
     "execution_count": 17,
     "metadata": {},
     "output_type": "execute_result"
    }
   ],
   "source": [
    "N=55\n",
    "c=17\n",
    "b=4\n",
    "\n",
    "r=calculatePeriod(Gn{N}(b))"
   ]
  },
  {
   "cell_type": "code",
   "execution_count": 18,
   "metadata": {},
   "outputs": [
    {
     "data": {
      "text/plain": [
       "13"
      ]
     },
     "execution_count": 18,
     "metadata": {},
     "output_type": "execute_result"
    }
   ],
   "source": [
    "N=55\n",
    "c=17\n",
    "b=4\n",
    "\n",
    "r=calculatePeriod(Gn{N}(b))\n",
    "d1=oppositeElement(Gn{N}(c))\n",
    "d=d1.x"
   ]
  },
  {
   "cell_type": "code",
   "execution_count": 19,
   "metadata": {},
   "outputs": [
    {
     "data": {
      "text/plain": [
       "Gn{55}(9)"
      ]
     },
     "execution_count": 19,
     "metadata": {},
     "output_type": "execute_result"
    }
   ],
   "source": [
    "N=55\n",
    "c=17\n",
    "b=4\n",
    "\n",
    "r=calculatePeriod(Gn{N}(b))\n",
    "d1=oppositeElement(Gn{N}(c))\n",
    "d=d1.x\n",
    "a=powGn(Gn{N}(b), d)"
   ]
  },
  {
   "cell_type": "code",
   "execution_count": 20,
   "metadata": {},
   "outputs": [
    {
     "data": {
      "text/plain": [
       "4"
      ]
     },
     "execution_count": 20,
     "metadata": {},
     "output_type": "execute_result"
    }
   ],
   "source": [
    "N=55\n",
    "c=17\n",
    "b=4\n",
    "\n",
    "r=calculatePeriod(Gn{N}(b))\n",
    "d1=oppositeElement(Gn{N}(c))\n",
    "d=d1.x\n",
    "a=powGn(Gn{N}(b), d)\n",
    "is_b1=powGn(a, c)\n",
    "is_b=is_b1.x"
   ]
  }
 ],
 "metadata": {
  "kernelspec": {
   "display_name": "Julia 0.6.2",
   "language": "julia",
   "name": "julia-0.6"
  },
  "language_info": {
   "file_extension": ".jl",
   "mimetype": "application/julia",
   "name": "julia",
   "version": "0.6.2"
  }
 },
 "nbformat": 4,
 "nbformat_minor": 2
}
