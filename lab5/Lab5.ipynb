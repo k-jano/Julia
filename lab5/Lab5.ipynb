{
 "cells": [
  {
   "cell_type": "code",
   "execution_count": 1,
   "metadata": {},
   "outputs": [
    {
     "data": {
      "text/plain": [
       "harmonic_mean_gen_impl (generic function with 1 method)"
      ]
     },
     "execution_count": 1,
     "metadata": {},
     "output_type": "execute_result"
    }
   ],
   "source": [
    "@generated function harmonic_mean_gen(I...)\n",
    "           return harmonic_mean_gen_impl(I...)\n",
    "end\n",
    "function harmonic_mean_gen_impl(I...)\n",
    "           N=length(I)\n",
    "           ex = :(1 / I[$1])\n",
    "           for i = 2:N\n",
    "               ex = :($ex + 1 / I[$i])\n",
    "           end\n",
    "           return :(1 / $ex)\n",
    "end"
   ]
  },
  {
   "cell_type": "code",
   "execution_count": 2,
   "metadata": {},
   "outputs": [
    {
     "data": {
      "text/plain": [
       ":(1 / ((((1 / I[1] + 1 / I[2]) + 1 / I[3]) + 1 / I[4]) + 1 / I[5]))"
      ]
     },
     "execution_count": 2,
     "metadata": {},
     "output_type": "execute_result"
    }
   ],
   "source": [
    "harmonic_mean_gen_impl(Int, Int, Int, Int, Int)"
   ]
  },
  {
   "cell_type": "code",
   "execution_count": 3,
   "metadata": {},
   "outputs": [
    {
     "name": "stdout",
     "output_type": "stream",
     "text": [
      "Expr\n",
      "  head: Symbol call\n",
      "  args: Array{Any}((3,))\n",
      "    1: Symbol /\n",
      "    2: Int64 2\n",
      "    3: Expr\n",
      "      head: Symbol call\n",
      "      args: Array{Any}((4,))\n",
      "        1: Symbol *\n",
      "        2: Symbol x\n",
      "        3: Symbol x\n",
      "        4: Symbol x\n",
      "      typ: Any\n",
      "  typ: Any\n"
     ]
    }
   ],
   "source": [
    "dump(:(2/(x*x*x)))"
   ]
  },
  {
   "cell_type": "code",
   "execution_count": 4,
   "metadata": {},
   "outputs": [
    {
     "data": {
      "text/plain": [
       "autodiff (generic function with 3 methods)"
      ]
     },
     "execution_count": 4,
     "metadata": {},
     "output_type": "execute_result"
    }
   ],
   "source": [
    "using Match\n",
    "\n",
    "function autodiff(ex::Int64)\n",
    "    return 0\n",
    "end\n",
    "\n",
    "\n",
    "function multiplication(args)\n",
    "    power_counter=0\n",
    "    basic_multiplier=1\n",
    "    for i=1:length(args)\n",
    "        @match args[i] begin\n",
    "            :x => power_counter+=1\n",
    "            n => basic_multiplier*=n\n",
    "        end\n",
    "    end\n",
    "    return :($(basic_multiplier*power_counter) *x^$(power_counter-1))\n",
    "end\n",
    "\n",
    "function division(numerator, denumerator)\n",
    "    power_counter=0\n",
    "    basic_multiplier=1\n",
    "    for i=1:length(denumerator)\n",
    "        @match denumerator[i] begin\n",
    "            :x => power_counter+=1\n",
    "            n => basic_multiplier*=n\n",
    "        end\n",
    "    end\n",
    "    return :($(numerator)*$(power_counter) /$(basic_multiplier)* x^$(power_counter+1))\n",
    "end\n",
    "\n",
    "function main_division(args)\n",
    "    @match args[2].args begin\n",
    "        [*, x...] => return division(args[1], x)\n",
    "    end\n",
    "end\n",
    "\n",
    "function autodiff(ex::Symbol)\n",
    "    @match ex begin\n",
    "        :x => return 1\n",
    "    end    \n",
    "end\n",
    "\n",
    "\n",
    "function autodiff(ex::Expr)\n",
    "    res=Expr(:call, :+, 0, 0)\n",
    "    arr1=[]\n",
    "    arr2=[]\n",
    "    @match ex.args begin\n",
    "        [:+, x...] => for i=1:length(x)\n",
    "            res = Expr(:call, :+, res, autodiff(x[i]))\n",
    "        end    \n",
    "        [:-, x...] => for i=1:length(x)\n",
    "            if i==1\n",
    "                res = Expr(:call, :+, res, autodiff(x[i]))\n",
    "            else\n",
    "                res = Expr(:call, :-, res, autodiff(x[i]))\n",
    "            end    \n",
    "        end\n",
    "        [:*, x...] =>\n",
    "            res = Expr(:call, :+, res, multiplication(x))\n",
    "        [:/, x...] => \n",
    "            res = Expr(:call, :-, res, main_division(x))\n",
    "    end    \n",
    "    return res    \n",
    "end"
   ]
  },
  {
   "cell_type": "code",
   "execution_count": 5,
   "metadata": {},
   "outputs": [
    {
     "data": {
      "text/plain": [
       ":(((0 + 0) + (((0 + 0) + ((0 + 0) + 4 * x ^ 1)) - ((0 + 0) + 12 * x ^ 2))) + ((0 + 0) + 12 * x ^ 0))"
      ]
     },
     "execution_count": 5,
     "metadata": {},
     "output_type": "execute_result"
    }
   ],
   "source": [
    "p=autodiff(:(2*x*x-4*x*x*x +4*3*x))"
   ]
  },
  {
   "cell_type": "code",
   "execution_count": 6,
   "metadata": {},
   "outputs": [
    {
     "data": {
      "text/plain": [
       ":((0 + 0) - ((1 * 2) / 1) * x ^ 3)"
      ]
     },
     "execution_count": 6,
     "metadata": {},
     "output_type": "execute_result"
    }
   ],
   "source": [
    "p=autodiff(:(1/(x*x)))"
   ]
  }
 ],
 "metadata": {
  "kernelspec": {
   "display_name": "Julia 0.6.2",
   "language": "julia",
   "name": "julia-0.6"
  },
  "language_info": {
   "file_extension": ".jl",
   "mimetype": "application/julia",
   "name": "julia",
   "version": "0.6.2"
  }
 },
 "nbformat": 4,
 "nbformat_minor": 2
}
