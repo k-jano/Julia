{
 "cells": [
  {
   "cell_type": "code",
   "execution_count": 1,
   "metadata": {},
   "outputs": [
    {
     "name": "stdout",
     "output_type": "stream",
     "text": [
      "1\n",
      "2\n",
      "3\n",
      "1\n",
      "2\n",
      "3\n",
      "1\n",
      "2\n",
      "3\n",
      "1\n",
      "2\n",
      "3\n",
      "1\n",
      "2\n",
      "3\n",
      "1\n",
      "2\n",
      "3\n",
      "1\n",
      "2\n",
      "3\n",
      "1\n",
      "2\n",
      "3\n",
      "1\n",
      "2\n",
      "3\n",
      "1\n",
      "2\n",
      "3\n",
      "2\n",
      "3\n",
      "2\n",
      "3\n",
      "2\n",
      "3\n",
      "2\n",
      "3\n",
      "2\n",
      "3\n",
      "2\n",
      "2\n",
      "2\n",
      "2\n",
      "2\n"
     ]
    },
    {
     "data": {
      "text/plain": [
       "Task (done) @0x00007f8a3d1df1f0"
      ]
     },
     "execution_count": 1,
     "metadata": {},
     "output_type": "execute_result"
    }
   ],
   "source": [
    "function print1(c::Channel)\n",
    "    for i=1:10\n",
    "        println(\"1\")\n",
    "        yield()\n",
    "    end\n",
    "end\n",
    "\n",
    "function print2(c::Channel)\n",
    "    for i=1:20\n",
    "        println(\"2\")\n",
    "        yield()\n",
    "    end\n",
    "end\n",
    "\n",
    "function print3(c::Channel)\n",
    "    for i=1:15\n",
    "        println(\"3\")\n",
    "        yield()\n",
    "    end\n",
    "end\n",
    "\n",
    "@sync begin\n",
    "    c=Channel(32)\n",
    " \n",
    "    @async print1(c)\n",
    "    @async print2(c)\n",
    "    @async print3(c)\n",
    "end"
   ]
  },
  {
   "cell_type": "code",
   "execution_count": null,
   "metadata": {},
   "outputs": [],
   "source": []
  }
 ],
 "metadata": {
  "kernelspec": {
   "display_name": "Julia 0.6.2",
   "language": "julia",
   "name": "julia-0.6"
  },
  "language_info": {
   "file_extension": ".jl",
   "mimetype": "application/julia",
   "name": "julia",
   "version": "0.6.2"
  }
 },
 "nbformat": 4,
 "nbformat_minor": 2
}
